{
 "cells": [
  {
   "cell_type": "markdown",
   "id": "e832527c-2185-4909-bea7-f10cdd41265b",
   "metadata": {
    "tags": []
   },
   "source": [
    "# Data Science Tools and Ecosystem #"
   ]
  },
  {
   "cell_type": "markdown",
   "id": "0a223c4f-f28f-4b4d-9fe5-dbfc590b2fc0",
   "metadata": {},
   "source": [
    "In this notebook, Data Science Tools and Ecosystem are summarized."
   ]
  },
  {
   "cell_type": "markdown",
   "id": "751c510e-684b-4895-b28c-122c6b8b15f8",
   "metadata": {},
   "source": [
    "**Objectives:**\n",
    "* List popular languages for Data Science\n",
    "* Commonly used libraries for Data Science\n",
    "* Data Science Tools\n",
    "* Simple arithmetic expression"
   ]
  },
  {
   "cell_type": "markdown",
   "id": "5259c089-e935-411f-b5d4-d8b2479beb98",
   "metadata": {},
   "source": [
    "Some of the popular languages that Data Scientists use are:\n",
    "\n",
    "1. Jupyter notebook\n",
    "2. R\n",
    "3. Python\n",
    "4. SQL"
   ]
  },
  {
   "cell_type": "markdown",
   "id": "cdea7804-0dac-4d70-9fb8-d6b6d5c974b7",
   "metadata": {},
   "source": [
    "Some of the commonly used libraries used by Data Scientists include:\n",
    "\n",
    "1. pandas\n",
    "2. numpy\n",
    "3. matplotlib\n",
    "4. ploty"
   ]
  },
  {
   "cell_type": "markdown",
   "id": "be5b209c-4280-4e43-89fe-8fc27b781da5",
   "metadata": {},
   "source": [
    "|Data Science Tools|\n",
    "|------------------|\n",
    "|My sql            |\n",
    "|Apache airflow    |\n",
    "|Kibana            |"
   ]
  },
  {
   "cell_type": "markdown",
   "id": "9f320f13-09a0-4b63-86b9-143e7666d26b",
   "metadata": {},
   "source": [
    "### Below are a few examples of evaluating arithmetic expressions in Python ###\n",
    "\n",
    "$ a_{n}=a_{1}+(n-1)d $"
   ]
  },
  {
   "cell_type": "code",
   "execution_count": 1,
   "id": "856cfd06-d87e-4e88-b1fb-c2dde60f93bc",
   "metadata": {},
   "outputs": [
    {
     "data": {
      "text/plain": [
       "17"
      ]
     },
     "execution_count": 1,
     "metadata": {},
     "output_type": "execute_result"
    }
   ],
   "source": [
    "#This a simple arithmetic expression to mutiply then add integers\n",
    "(3*4)+5"
   ]
  },
  {
   "cell_type": "code",
   "execution_count": 2,
   "id": "30a74b80-ca35-4a1a-856b-5bd91bdff852",
   "metadata": {},
   "outputs": [
    {
     "data": {
      "text/plain": [
       "3.3333333333333335"
      ]
     },
     "execution_count": 2,
     "metadata": {},
     "output_type": "execute_result"
    }
   ],
   "source": [
    "#his will convert 200 minutes to hours by diving by 60.\n",
    "200/60"
   ]
  },
  {
   "cell_type": "markdown",
   "id": "1aaef75f-7009-4005-a22e-a8023968b372",
   "metadata": {},
   "source": [
    "## Author ##\n",
    "\n",
    "Sachin Kumar"
   ]
  },
  {
   "cell_type": "code",
   "execution_count": null,
   "id": "3c48c21c-2bd2-4a0a-a42f-3dd1b7c0495b",
   "metadata": {},
   "outputs": [],
   "source": []
  }
 ],
 "metadata": {
  "kernelspec": {
   "display_name": "Python",
   "language": "python",
   "name": "conda-env-python-py"
  },
  "language_info": {
   "codemirror_mode": {
    "name": "ipython",
    "version": 3
   },
   "file_extension": ".py",
   "mimetype": "text/x-python",
   "name": "python",
   "nbconvert_exporter": "python",
   "pygments_lexer": "ipython3",
   "version": "3.7.12"
  }
 },
 "nbformat": 4,
 "nbformat_minor": 5
}
